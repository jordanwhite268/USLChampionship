{
 "cells": [
  {
   "cell_type": "code",
   "execution_count": 1,
   "id": "31cd96d6",
   "metadata": {},
   "outputs": [
    {
     "name": "stdout",
     "output_type": "stream",
     "text": [
      "Column Names in df:\n",
      "Player_ID\n",
      "Season\n",
      "Team_ID\n"
     ]
    }
   ],
   "source": [
    "import pandas as pd\n",
    "import numpy \n",
    "\n",
    "#Read in excel file \n",
    "rosterdf   = pd.read_csv(r'Data\\Roster.csv', delimiter = \",\")\n",
    "#set index\n",
    "rosterdf = rosterdf.set_index('Roster_ID')\n",
    "\n",
    "#print columns\n",
    "print(\"Column Names in df:\")\n",
    "for column in rosterdf.columns:\n",
    "    print(column)\n"
   ]
  },
  {
   "cell_type": "code",
   "execution_count": 3,
   "id": "7a87ba64",
   "metadata": {},
   "outputs": [
    {
     "name": "stdout",
     "output_type": "stream",
     "text": [
      "Generated SQL script:\n",
      "CREATE TABLE Roster (\n",
      "    Roster_ID INT PRIMARY KEY,\n",
      "    Player_ID INT REFERENCES Players(Player_ID),\n",
      "    Season YEAR ,\n",
      "    Team_ID INT REFERENCES Teams(Team_ID)\n",
      ");\n"
     ]
    }
   ],
   "source": [
    "#Connect to SQL DB\n",
    "import sqlite3\n",
    "connection = sqlite3.connect('USLChampionship.db')\n",
    "\n",
    "# Define table name and columns\n",
    "table_name = \"Roster\"\n",
    "columns = [\n",
    "    {\"name\": \"Roster_ID\", \"type\": \"INT\", \"constraints\": \"PRIMARY KEY\"},\n",
    "    {\"name\": \"Player_ID\", \"type\": \"INT\", \"constraints\": \"REFERENCES Players(Player_ID)\"},\n",
    "    {\"name\": \"Season\", \"type\": \"YEAR\", \"constraints\": \"\"},\n",
    "    {\"name\": \"Team_ID\", \"type\": \"INT\", \"constraints\": \"REFERENCES Teams(Team_ID)\"}\n",
    "]\n",
    "\n",
    "# Generate the SQL CREATE TABLE statement\n",
    "create_table_sql = f\"CREATE TABLE {table_name} (\\n\"\n",
    "for column in columns:\n",
    "    create_table_sql += f\"    {column['name']} {column['type']} {column['constraints']},\\n\"\n",
    "create_table_sql = create_table_sql.rstrip(\",\\n\") + \"\\n);\"\n",
    "\n",
    "print(\"Generated SQL script:\")\n",
    "print(create_table_sql)\n",
    "\n"
   ]
  },
  {
   "cell_type": "code",
   "execution_count": 4,
   "id": "e9077f71",
   "metadata": {},
   "outputs": [
    {
     "name": "stdout",
     "output_type": "stream",
     "text": [
      "Table created successfully.\n"
     ]
    }
   ],
   "source": [
    "# Connect to the SQLite database (or create it if it doesn't exist)\n",
    "cursor = connection.cursor()\n",
    "\n",
    "# Execute the SQL script\n",
    "try:\n",
    "    cursor.execute(create_table_sql)\n",
    "    connection.commit()\n",
    "    print(\"Table created successfully.\")\n",
    "except sqlite3.Error as e:\n",
    "    print(f\"An error occurred: {e}\")\n",
    "finally:\n",
    "    connection.close()\n"
   ]
  },
  {
   "cell_type": "code",
   "execution_count": 6,
   "id": "dc7266ba",
   "metadata": {},
   "outputs": [
    {
     "data": {
      "text/plain": [
       "666"
      ]
     },
     "execution_count": 6,
     "metadata": {},
     "output_type": "execute_result"
    }
   ],
   "source": [
    "#write dataframe to table\n",
    "import sqlite3\n",
    "connection = sqlite3.connect('USLChampionship.db')\n",
    "rosterdf.to_sql('Roster', connection, if_exists='replace')"
   ]
  },
  {
   "cell_type": "code",
   "execution_count": null,
   "id": "b387b4c8",
   "metadata": {},
   "outputs": [],
   "source": []
  }
 ],
 "metadata": {
  "kernelspec": {
   "display_name": "Python 3 (ipykernel)",
   "language": "python",
   "name": "python3"
  },
  "language_info": {
   "codemirror_mode": {
    "name": "ipython",
    "version": 3
   },
   "file_extension": ".py",
   "mimetype": "text/x-python",
   "name": "python",
   "nbconvert_exporter": "python",
   "pygments_lexer": "ipython3",
   "version": "3.11.5"
  }
 },
 "nbformat": 4,
 "nbformat_minor": 5
}
