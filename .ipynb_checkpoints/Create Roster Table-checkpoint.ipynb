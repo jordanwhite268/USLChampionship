{
 "cells": [
  {
   "cell_type": "code",
   "execution_count": 11,
   "id": "31cd96d6",
   "metadata": {},
   "outputs": [
    {
     "name": "stdout",
     "output_type": "stream",
     "text": [
      "Column Names in df:\n",
      "Is_Individual_Player_Award\n",
      "Is_Team_Award\n",
      "Is_Coach_Award\n",
      "Length_of_Award\n",
      "Award_Name\n"
     ]
    }
   ],
   "source": [
    "import pandas as pd\n",
    "import numpy \n",
    "\n",
    "#Read in excel file \n",
    "award_typesdf   = pd.read_csv(r'Data\\award_types.csv', delimiter = \",\")\n",
    "#set index\n",
    "award_typesdf = award_typesdf.set_index('Award_Type_ID')\n",
    "\n",
    "#print columns\n",
    "print(\"Column Names in df:\")\n",
    "for column in award_typesdf.columns:\n",
    "    print(column)\n"
   ]
  },
  {
   "cell_type": "code",
   "execution_count": null,
   "id": "7a87ba64",
   "metadata": {},
   "outputs": [],
   "source": [
    "#Rename columns\n",
    "teamdf = teamdf.rename(columns={'Full Name': 'Team_Name', 'Nick Name': 'Nick_Name','Home City': 'Home_City', 'Home State': 'Home_State', 'IS Soccer Specific': 'Is_Soccer_Specific','Team Color 1': 'Team_Color1','Team Color 2': 'Team_Color2', 'Team Color 3': 'Team_Color3','Key Sponsors': 'Key_Sponsors',})\n",
    "#Drop Columns\n",
    "teamdf = teamdf.drop(columns=['Unnamed: 14', 'Unnamed: 15', 'Unnamed: 16', 'Unnamed: 17', 'Unnamed: 18', 'Unnamed: 19', 'Unnamed: 20', 'Unnamed: 21', 'Unnamed: 22','Unnamed: 23','Unnamed: 24'])    \n",
    "teamdf.head()"
   ]
  },
  {
   "cell_type": "code",
   "execution_count": 12,
   "id": "dc7266ba",
   "metadata": {},
   "outputs": [
    {
     "data": {
      "text/plain": [
       "29"
      ]
     },
     "execution_count": 12,
     "metadata": {},
     "output_type": "execute_result"
    }
   ],
   "source": [
    "#write dataframe to table\n",
    "import sqlite3\n",
    "connection = sqlite3.connect('USLChampionship.db')\n",
    "award_typesdf.to_sql('Award_Types', connection, if_exists='replace')"
   ]
  },
  {
   "cell_type": "code",
   "execution_count": null,
   "id": "b387b4c8",
   "metadata": {},
   "outputs": [],
   "source": []
  }
 ],
 "metadata": {
  "kernelspec": {
   "display_name": "Python 3 (ipykernel)",
   "language": "python",
   "name": "python3"
  },
  "language_info": {
   "codemirror_mode": {
    "name": "ipython",
    "version": 3
   },
   "file_extension": ".py",
   "mimetype": "text/x-python",
   "name": "python",
   "nbconvert_exporter": "python",
   "pygments_lexer": "ipython3",
   "version": "3.11.5"
  }
 },
 "nbformat": 4,
 "nbformat_minor": 5
}
